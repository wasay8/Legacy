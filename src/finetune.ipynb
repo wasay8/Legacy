{
 "cells": [
  {
   "cell_type": "markdown",
   "metadata": {},
   "source": [
    "# Storing a database DUCKDB for ML Prediction\n"
   ]
  },
  {
   "cell_type": "code",
   "execution_count": 1,
   "metadata": {},
   "outputs": [],
   "source": [
    "import pandas as pd\n",
    "import duckdb\n"
   ]
  },
  {
   "cell_type": "code",
   "execution_count": null,
   "metadata": {},
   "outputs": [],
   "source": [
    "# Dataset\n",
    "import pandas as pd\n",
    "import duckdb\n",
    "\n",
    "\n",
    "df = pd.read_csv(\"/Users/abdulwasaysiddiqui/Desktop/Legacy/ML Prediction/Dataset/pair_data.csv\")\n",
    "\n",
    "flattened_data = []\n",
    "\n",
    "for idx, row in df.iterrows():\n",
    "    prompts = row['prompt']\n",
    "    for col in ['hq1', 'hq2', 'mq1', 'lq1', 'lq2', 'lq3', 'lq4', 'lq5']:\n",
    "        flattened_data.append({\n",
    "            'prompt': prompts,\n",
    "            'response': row[col],\n",
    "            'label': col[:2]  # 'hq', 'mq', or 'lq'\n",
    "        })\n",
    "\n",
    "flattened_df = pd.DataFrame(flattened_data)\n"
   ]
  },
  {
   "cell_type": "code",
   "execution_count": 48,
   "metadata": {},
   "outputs": [
    {
     "data": {
      "text/html": [
       "<div>\n",
       "<style scoped>\n",
       "    .dataframe tbody tr th:only-of-type {\n",
       "        vertical-align: middle;\n",
       "    }\n",
       "\n",
       "    .dataframe tbody tr th {\n",
       "        vertical-align: top;\n",
       "    }\n",
       "\n",
       "    .dataframe thead th {\n",
       "        text-align: right;\n",
       "    }\n",
       "</style>\n",
       "<table border=\"1\" class=\"dataframe\">\n",
       "  <thead>\n",
       "    <tr style=\"text-align: right;\">\n",
       "      <th></th>\n",
       "      <th>prompt</th>\n",
       "      <th>response</th>\n",
       "      <th>label</th>\n",
       "    </tr>\n",
       "  </thead>\n",
       "  <tbody>\n",
       "    <tr>\n",
       "      <th>0</th>\n",
       "      <td>I know I am too big, and I probably should exe...</td>\n",
       "      <td>You are starting to think it’s time to do some...</td>\n",
       "      <td>hq</td>\n",
       "    </tr>\n",
       "    <tr>\n",
       "      <th>1</th>\n",
       "      <td>I know I am too big, and I probably should exe...</td>\n",
       "      <td>You have put a lot of effort into losing weigh...</td>\n",
       "      <td>hq</td>\n",
       "    </tr>\n",
       "    <tr>\n",
       "      <th>2</th>\n",
       "      <td>I know I am too big, and I probably should exe...</td>\n",
       "      <td>You don't know how you'd fit exercise into you...</td>\n",
       "      <td>mq</td>\n",
       "    </tr>\n",
       "    <tr>\n",
       "      <th>3</th>\n",
       "      <td>I know I am too big, and I probably should exe...</td>\n",
       "      <td>It's free to exercise at home. Maybe ride your...</td>\n",
       "      <td>lq</td>\n",
       "    </tr>\n",
       "    <tr>\n",
       "      <th>4</th>\n",
       "      <td>I know I am too big, and I probably should exe...</td>\n",
       "      <td>Do you have a cheap gym near you, like a Plane...</td>\n",
       "      <td>lq</td>\n",
       "    </tr>\n",
       "  </tbody>\n",
       "</table>\n",
       "</div>"
      ],
      "text/plain": [
       "                                              prompt  \\\n",
       "0  I know I am too big, and I probably should exe...   \n",
       "1  I know I am too big, and I probably should exe...   \n",
       "2  I know I am too big, and I probably should exe...   \n",
       "3  I know I am too big, and I probably should exe...   \n",
       "4  I know I am too big, and I probably should exe...   \n",
       "\n",
       "                                            response label  \n",
       "0  You are starting to think it’s time to do some...    hq  \n",
       "1  You have put a lot of effort into losing weigh...    hq  \n",
       "2  You don't know how you'd fit exercise into you...    mq  \n",
       "3  It's free to exercise at home. Maybe ride your...    lq  \n",
       "4  Do you have a cheap gym near you, like a Plane...    lq  "
      ]
     },
     "execution_count": 48,
     "metadata": {},
     "output_type": "execute_result"
    }
   ],
   "source": [
    "flattened_df.head()"
   ]
  },
  {
   "cell_type": "code",
   "execution_count": 49,
   "metadata": {},
   "outputs": [
    {
     "data": {
      "text/plain": [
       "(2544, 3)"
      ]
     },
     "execution_count": 49,
     "metadata": {},
     "output_type": "execute_result"
    }
   ],
   "source": [
    "flattened_df.shape"
   ]
  },
  {
   "cell_type": "code",
   "execution_count": null,
   "metadata": {},
   "outputs": [
    {
     "name": "stdout",
     "output_type": "stream",
     "text": [
      "                                              prompt  \\\n",
      "0  I know I am too big, and I probably should exe...   \n",
      "1  I know I am too big, and I probably should exe...   \n",
      "2  I know I am too big, and I probably should exe...   \n",
      "3  I know I am too big, and I probably should exe...   \n",
      "4  I know I am too big, and I probably should exe...   \n",
      "\n",
      "                                            response label  \n",
      "0  You are starting to think it’s time to do some...    hq  \n",
      "1  You have put a lot of effort into losing weigh...    hq  \n",
      "2  You don't know how you'd fit exercise into you...    mq  \n",
      "3  It's free to exercise at home. Maybe ride your...    lq  \n",
      "4  Do you have a cheap gym near you, like a Plane...    lq  \n"
     ]
    }
   ],
   "source": [
    "\n",
    "con = duckdb.connect('mental_health_assistant.duckdb.duckdb')\n",
    "con.execute(\"CREATE TABLE IF NOT EXISTS pair_responses AS SELECT * FROM flattened_df\")\n",
    "result = con.execute(\"SELECT * FROM pair_responses LIMIT 5\").fetchdf()\n",
    "print(result)\n",
    "con.close()\n"
   ]
  },
  {
   "cell_type": "markdown",
   "metadata": {},
   "source": [
    "# Loading data from database"
   ]
  },
  {
   "cell_type": "code",
   "execution_count": null,
   "metadata": {},
   "outputs": [
    {
     "name": "stdout",
     "output_type": "stream",
     "text": [
      "Available tables: [('pair_responses',)]\n",
      "                                              prompt  \\\n",
      "0  I know I am too big, and I probably should exe...   \n",
      "1  I know I am too big, and I probably should exe...   \n",
      "2  I know I am too big, and I probably should exe...   \n",
      "3  I know I am too big, and I probably should exe...   \n",
      "4  I know I am too big, and I probably should exe...   \n",
      "\n",
      "                                            response label  \n",
      "0  You are starting to think it’s time to do some...    hq  \n",
      "1  You have put a lot of effort into losing weigh...    hq  \n",
      "2  You don't know how you'd fit exercise into you...    mq  \n",
      "3  It's free to exercise at home. Maybe ride your...    lq  \n",
      "4  Do you have a cheap gym near you, like a Plane...    lq  \n"
     ]
    }
   ],
   "source": [
    "import duckdb\n",
    "import pandas as pd\n",
    "\n",
    "con = duckdb.connect(\"/Users/abdulwasaysiddiqui/Desktop/Legacy/ML Prediction/mental_health_assistant.duckdb\")\n",
    "\n",
    "tables = con.execute(\"SHOW TABLES\").fetchall()\n",
    "print(\"Available tables:\", tables)\n",
    "table_name = tables[0][0]  \n",
    "df = con.execute(f\"SELECT * FROM {table_name}\").fetchdf()\n",
    "print(df.head())\n"
   ]
  },
  {
   "cell_type": "code",
   "execution_count": 53,
   "metadata": {},
   "outputs": [
    {
     "data": {
      "text/html": [
       "<div>\n",
       "<style scoped>\n",
       "    .dataframe tbody tr th:only-of-type {\n",
       "        vertical-align: middle;\n",
       "    }\n",
       "\n",
       "    .dataframe tbody tr th {\n",
       "        vertical-align: top;\n",
       "    }\n",
       "\n",
       "    .dataframe thead th {\n",
       "        text-align: right;\n",
       "    }\n",
       "</style>\n",
       "<table border=\"1\" class=\"dataframe\">\n",
       "  <thead>\n",
       "    <tr style=\"text-align: right;\">\n",
       "      <th></th>\n",
       "      <th>prompt</th>\n",
       "      <th>response</th>\n",
       "      <th>label</th>\n",
       "    </tr>\n",
       "  </thead>\n",
       "  <tbody>\n",
       "    <tr>\n",
       "      <th>0</th>\n",
       "      <td>I know I am too big, and I probably should exe...</td>\n",
       "      <td>You are starting to think it’s time to do some...</td>\n",
       "      <td>hq</td>\n",
       "    </tr>\n",
       "    <tr>\n",
       "      <th>1</th>\n",
       "      <td>I know I am too big, and I probably should exe...</td>\n",
       "      <td>You have put a lot of effort into losing weigh...</td>\n",
       "      <td>hq</td>\n",
       "    </tr>\n",
       "    <tr>\n",
       "      <th>2</th>\n",
       "      <td>I know I am too big, and I probably should exe...</td>\n",
       "      <td>You don't know how you'd fit exercise into you...</td>\n",
       "      <td>mq</td>\n",
       "    </tr>\n",
       "    <tr>\n",
       "      <th>3</th>\n",
       "      <td>I know I am too big, and I probably should exe...</td>\n",
       "      <td>It's free to exercise at home. Maybe ride your...</td>\n",
       "      <td>lq</td>\n",
       "    </tr>\n",
       "    <tr>\n",
       "      <th>4</th>\n",
       "      <td>I know I am too big, and I probably should exe...</td>\n",
       "      <td>Do you have a cheap gym near you, like a Plane...</td>\n",
       "      <td>lq</td>\n",
       "    </tr>\n",
       "  </tbody>\n",
       "</table>\n",
       "</div>"
      ],
      "text/plain": [
       "                                              prompt  \\\n",
       "0  I know I am too big, and I probably should exe...   \n",
       "1  I know I am too big, and I probably should exe...   \n",
       "2  I know I am too big, and I probably should exe...   \n",
       "3  I know I am too big, and I probably should exe...   \n",
       "4  I know I am too big, and I probably should exe...   \n",
       "\n",
       "                                            response label  \n",
       "0  You are starting to think it’s time to do some...    hq  \n",
       "1  You have put a lot of effort into losing weigh...    hq  \n",
       "2  You don't know how you'd fit exercise into you...    mq  \n",
       "3  It's free to exercise at home. Maybe ride your...    lq  \n",
       "4  Do you have a cheap gym near you, like a Plane...    lq  "
      ]
     },
     "execution_count": 53,
     "metadata": {},
     "output_type": "execute_result"
    }
   ],
   "source": [
    "df.head()"
   ]
  },
  {
   "cell_type": "code",
   "execution_count": 52,
   "metadata": {},
   "outputs": [],
   "source": [
    "df.to_csv(\"pair_data.csv\", index=False)"
   ]
  },
  {
   "cell_type": "markdown",
   "metadata": {},
   "source": [
    "# EDA"
   ]
  },
  {
   "cell_type": "code",
   "execution_count": 10,
   "metadata": {},
   "outputs": [
    {
     "data": {
      "text/html": [
       "<div>\n",
       "<style scoped>\n",
       "    .dataframe tbody tr th:only-of-type {\n",
       "        vertical-align: middle;\n",
       "    }\n",
       "\n",
       "    .dataframe tbody tr th {\n",
       "        vertical-align: top;\n",
       "    }\n",
       "\n",
       "    .dataframe thead th {\n",
       "        text-align: right;\n",
       "    }\n",
       "</style>\n",
       "<table border=\"1\" class=\"dataframe\">\n",
       "  <thead>\n",
       "    <tr style=\"text-align: right;\">\n",
       "      <th></th>\n",
       "      <th>prompt</th>\n",
       "      <th>response</th>\n",
       "      <th>label</th>\n",
       "    </tr>\n",
       "  </thead>\n",
       "  <tbody>\n",
       "    <tr>\n",
       "      <th>0</th>\n",
       "      <td>I know I am too big, and I probably should exe...</td>\n",
       "      <td>You are starting to think it’s time to do some...</td>\n",
       "      <td>hq</td>\n",
       "    </tr>\n",
       "    <tr>\n",
       "      <th>1</th>\n",
       "      <td>I know I am too big, and I probably should exe...</td>\n",
       "      <td>You have put a lot of effort into losing weigh...</td>\n",
       "      <td>hq</td>\n",
       "    </tr>\n",
       "    <tr>\n",
       "      <th>2</th>\n",
       "      <td>I know I am too big, and I probably should exe...</td>\n",
       "      <td>You don't know how you'd fit exercise into you...</td>\n",
       "      <td>mq</td>\n",
       "    </tr>\n",
       "    <tr>\n",
       "      <th>3</th>\n",
       "      <td>I know I am too big, and I probably should exe...</td>\n",
       "      <td>It's free to exercise at home. Maybe ride your...</td>\n",
       "      <td>lq</td>\n",
       "    </tr>\n",
       "    <tr>\n",
       "      <th>4</th>\n",
       "      <td>I know I am too big, and I probably should exe...</td>\n",
       "      <td>Do you have a cheap gym near you, like a Plane...</td>\n",
       "      <td>lq</td>\n",
       "    </tr>\n",
       "  </tbody>\n",
       "</table>\n",
       "</div>"
      ],
      "text/plain": [
       "                                              prompt  \\\n",
       "0  I know I am too big, and I probably should exe...   \n",
       "1  I know I am too big, and I probably should exe...   \n",
       "2  I know I am too big, and I probably should exe...   \n",
       "3  I know I am too big, and I probably should exe...   \n",
       "4  I know I am too big, and I probably should exe...   \n",
       "\n",
       "                                            response label  \n",
       "0  You are starting to think it’s time to do some...    hq  \n",
       "1  You have put a lot of effort into losing weigh...    hq  \n",
       "2  You don't know how you'd fit exercise into you...    mq  \n",
       "3  It's free to exercise at home. Maybe ride your...    lq  \n",
       "4  Do you have a cheap gym near you, like a Plane...    lq  "
      ]
     },
     "execution_count": 10,
     "metadata": {},
     "output_type": "execute_result"
    }
   ],
   "source": [
    "df.head()"
   ]
  },
  {
   "cell_type": "code",
   "execution_count": null,
   "metadata": {},
   "outputs": [],
   "source": [
    "import pandas as pd\n",
    "\n",
    "# Create features\n",
    "df['prompt_len_words'] = df['prompt'].apply(lambda x: len(str(x).split()))\n",
    "df['response_len_words'] = df['response'].apply(lambda x: len(str(x).split()))\n",
    "df['prompt_len_chars'] = df['prompt'].apply(lambda x: len(str(x)))\n",
    "df['response_len_chars'] = df['response'].apply(lambda x: len(str(x)))\n",
    "df['length_diff'] = df['response_len_words'] - df['prompt_len_words']\n"
   ]
  },
  {
   "cell_type": "code",
   "execution_count": 12,
   "metadata": {},
   "outputs": [
    {
     "name": "stdout",
     "output_type": "stream",
     "text": [
      "       prompt_len_words  response_len_words  length_diff\n",
      "label                                                   \n",
      "hq            36.154088           23.617925   -12.536164\n",
      "lq            36.154088           18.345283   -17.808805\n",
      "mq            36.154088            9.301887   -26.852201\n"
     ]
    }
   ],
   "source": [
    "# Group by label and compute averages\n",
    "length_summary = df.groupby(\"label\")[['prompt_len_words', 'response_len_words', 'length_diff']].mean()\n",
    "\n",
    "print(length_summary)\n"
   ]
  },
  {
   "cell_type": "code",
   "execution_count": 13,
   "metadata": {},
   "outputs": [
    {
     "data": {
      "image/png": "[encoded data removed]",
      "text/plain": [
       "<Figure size 640x480 with 1 Axes>"
      ]
     },
     "metadata": {},
     "output_type": "display_data"
    }
   ],
   "source": [
    "import seaborn as sns\n",
    "import matplotlib.pyplot as plt\n",
    "\n",
    "sns.boxplot(data=df, x='label', y='response_len_words')\n",
    "plt.title(\"Response Length (Words) by Quality Label\")\n",
    "plt.show()\n"
   ]
  },
  {
   "cell_type": "code",
   "execution_count": 14,
   "metadata": {},
   "outputs": [
    {
     "data": {
      "image/png": "[encoded data removed]",
      "text/plain": [
       "<Figure size 640x480 with 1 Axes>"
      ]
     },
     "metadata": {},
     "output_type": "display_data"
    }
   ],
   "source": [
    "sns.barplot(data=length_summary.reset_index(), x='label', y='response_len_words')\n",
    "plt.title(\"Average Response Length by Quality\")\n",
    "plt.ylabel(\"Words\")\n",
    "plt.show()\n"
   ]
  },
  {
   "cell_type": "code",
   "execution_count": null,
   "metadata": {},
   "outputs": [
    {
     "name": "stderr",
     "output_type": "stream",
     "text": [
      "/var/folders/84/9qtpncvs6s7b3ystc9ytmht00000gn/T/ipykernel_18279/155586642.py:8: FutureWarning: \n",
      "\n",
      "Passing `palette` without assigning `hue` is deprecated and will be removed in v0.14.0. Assign the `x` variable to `hue` and set `legend=False` for the same effect.\n",
      "\n",
      "  sns.boxplot(data=df, x='label', y='length_ratio', palette='Set2')\n"
     ]
    },
    {
     "data": {
      "image/png": "[encoded data removed]",
      "text/plain": [
       "<Figure size 800x600 with 1 Axes>"
      ]
     },
     "metadata": {},
     "output_type": "display_data"
    }
   ],
   "source": [
    "df['length_ratio'] = df['response_len_words'] / (df['prompt_len_words'] + 1e-5)  # avoid division by zero\n",
    "import seaborn as sns\n",
    "import matplotlib.pyplot as plt\n",
    "\n",
    "plt.figure(figsize=(8, 6))\n",
    "sns.boxplot(data=df, x='label', y='length_ratio', palette='Set2')\n",
    "\n",
    "plt.title(\"Response/Prompt Length Ratio by Quality Label\")\n",
    "plt.xlabel(\"Label\")\n",
    "plt.ylabel(\"Length Ratio (Response / Prompt)\")\n",
    "plt.grid(True)\n",
    "plt.tight_layout()\n",
    "plt.show()\n"
   ]
  },
  {
   "cell_type": "code",
   "execution_count": 16,
   "metadata": {},
   "outputs": [
    {
     "name": "stdout",
     "output_type": "stream",
     "text": [
      "label\n",
      "lq    1590\n",
      "hq     636\n",
      "mq     318\n",
      "Name: count, dtype: int64\n"
     ]
    },
    {
     "name": "stderr",
     "output_type": "stream",
     "text": [
      "/var/folders/84/9qtpncvs6s7b3ystc9ytmht00000gn/T/ipykernel_18279/634576383.py:9: FutureWarning: \n",
      "\n",
      "Passing `palette` without assigning `hue` is deprecated and will be removed in v0.14.0. Assign the `x` variable to `hue` and set `legend=False` for the same effect.\n",
      "\n",
      "  sns.countplot(data=df, x='label', order=label_counts.index, palette='Set2')\n"
     ]
    },
    {
     "data": {
      "image/png": "[encoded data removed]",
      "text/plain": [
       "<Figure size 640x480 with 1 Axes>"
      ]
     },
     "metadata": {},
     "output_type": "display_data"
    }
   ],
   "source": [
    "import seaborn as sns\n",
    "import matplotlib.pyplot as plt\n",
    "\n",
    "# Count by label\n",
    "label_counts = df['label'].value_counts()\n",
    "print(label_counts)\n",
    "\n",
    "# Bar plot\n",
    "sns.countplot(data=df, x='label', order=label_counts.index, palette='Set2')\n",
    "plt.title(\"Label Distribution (Before Shuffling)\")\n",
    "plt.show()\n"
   ]
  },
  {
   "cell_type": "markdown",
   "metadata": {},
   "source": [
    "# Feature Engineering"
   ]
  },
  {
   "cell_type": "code",
   "execution_count": null,
   "metadata": {},
   "outputs": [
    {
     "data": {
      "text/html": [
       "<div>\n",
       "<style scoped>\n",
       "    .dataframe tbody tr th:only-of-type {\n",
       "        vertical-align: middle;\n",
       "    }\n",
       "\n",
       "    .dataframe tbody tr th {\n",
       "        vertical-align: top;\n",
       "    }\n",
       "\n",
       "    .dataframe thead th {\n",
       "        text-align: right;\n",
       "    }\n",
       "</style>\n",
       "<table border=\"1\" class=\"dataframe\">\n",
       "  <thead>\n",
       "    <tr style=\"text-align: right;\">\n",
       "      <th></th>\n",
       "      <th>prompt</th>\n",
       "      <th>response</th>\n",
       "      <th>label</th>\n",
       "    </tr>\n",
       "  </thead>\n",
       "  <tbody>\n",
       "    <tr>\n",
       "      <th>0</th>\n",
       "      <td>I know I am too big, and I probably should exe...</td>\n",
       "      <td>You are starting to think it’s time to do some...</td>\n",
       "      <td>hq</td>\n",
       "    </tr>\n",
       "    <tr>\n",
       "      <th>1</th>\n",
       "      <td>I know I am too big, and I probably should exe...</td>\n",
       "      <td>You have put a lot of effort into losing weigh...</td>\n",
       "      <td>hq</td>\n",
       "    </tr>\n",
       "    <tr>\n",
       "      <th>2</th>\n",
       "      <td>I know I am too big, and I probably should exe...</td>\n",
       "      <td>You don't know how you'd fit exercise into you...</td>\n",
       "      <td>mq</td>\n",
       "    </tr>\n",
       "    <tr>\n",
       "      <th>3</th>\n",
       "      <td>I know I am too big, and I probably should exe...</td>\n",
       "      <td>It's free to exercise at home. Maybe ride your...</td>\n",
       "      <td>lq</td>\n",
       "    </tr>\n",
       "    <tr>\n",
       "      <th>4</th>\n",
       "      <td>I know I am too big, and I probably should exe...</td>\n",
       "      <td>Do you have a cheap gym near you, like a Plane...</td>\n",
       "      <td>lq</td>\n",
       "    </tr>\n",
       "  </tbody>\n",
       "</table>\n",
       "</div>"
      ],
      "text/plain": [
       "                                              prompt  \\\n",
       "0  I know I am too big, and I probably should exe...   \n",
       "1  I know I am too big, and I probably should exe...   \n",
       "2  I know I am too big, and I probably should exe...   \n",
       "3  I know I am too big, and I probably should exe...   \n",
       "4  I know I am too big, and I probably should exe...   \n",
       "\n",
       "                                            response label  \n",
       "0  You are starting to think it’s time to do some...    hq  \n",
       "1  You have put a lot of effort into losing weigh...    hq  \n",
       "2  You don't know how you'd fit exercise into you...    mq  \n",
       "3  It's free to exercise at home. Maybe ride your...    lq  \n",
       "4  Do you have a cheap gym near you, like a Plane...    lq  "
      ]
     },
     "execution_count": 36,
     "metadata": {},
     "output_type": "execute_result"
    }
   ],
   "source": [
    "# Connect to the database file\n",
    "con = duckdb.connect(\"mental_health.duckdb\")\n",
    "tables = con.execute(\"SHOW TABLES\").fetchall()\n",
    "table_name = tables[0][0] \n",
    "df = con.execute(f\"SELECT * FROM {table_name}\").fetchdf()\n",
    "\n",
    "\n",
    "df.head()"
   ]
  },
  {
   "cell_type": "markdown",
   "metadata": {},
   "source": [
    "## Creating text"
   ]
  },
  {
   "cell_type": "code",
   "execution_count": null,
   "metadata": {},
   "outputs": [
    {
     "data": {
      "text/html": [
       "<div>\n",
       "<style scoped>\n",
       "    .dataframe tbody tr th:only-of-type {\n",
       "        vertical-align: middle;\n",
       "    }\n",
       "\n",
       "    .dataframe tbody tr th {\n",
       "        vertical-align: top;\n",
       "    }\n",
       "\n",
       "    .dataframe thead th {\n",
       "        text-align: right;\n",
       "    }\n",
       "</style>\n",
       "<table border=\"1\" class=\"dataframe\">\n",
       "  <thead>\n",
       "    <tr style=\"text-align: right;\">\n",
       "      <th></th>\n",
       "      <th>prompt</th>\n",
       "      <th>response</th>\n",
       "      <th>label</th>\n",
       "      <th>text</th>\n",
       "    </tr>\n",
       "  </thead>\n",
       "  <tbody>\n",
       "    <tr>\n",
       "      <th>0</th>\n",
       "      <td>I know I am too big, and I probably should exe...</td>\n",
       "      <td>You are starting to think it’s time to do some...</td>\n",
       "      <td>hq</td>\n",
       "      <td>Prompt: I know I am too big, and I probably sh...</td>\n",
       "    </tr>\n",
       "    <tr>\n",
       "      <th>1</th>\n",
       "      <td>I know I am too big, and I probably should exe...</td>\n",
       "      <td>You have put a lot of effort into losing weigh...</td>\n",
       "      <td>hq</td>\n",
       "      <td>Prompt: I know I am too big, and I probably sh...</td>\n",
       "    </tr>\n",
       "    <tr>\n",
       "      <th>2</th>\n",
       "      <td>I know I am too big, and I probably should exe...</td>\n",
       "      <td>You don't know how you'd fit exercise into you...</td>\n",
       "      <td>mq</td>\n",
       "      <td>Prompt: I know I am too big, and I probably sh...</td>\n",
       "    </tr>\n",
       "    <tr>\n",
       "      <th>3</th>\n",
       "      <td>I know I am too big, and I probably should exe...</td>\n",
       "      <td>It's free to exercise at home. Maybe ride your...</td>\n",
       "      <td>lq</td>\n",
       "      <td>Prompt: I know I am too big, and I probably sh...</td>\n",
       "    </tr>\n",
       "    <tr>\n",
       "      <th>4</th>\n",
       "      <td>I know I am too big, and I probably should exe...</td>\n",
       "      <td>Do you have a cheap gym near you, like a Plane...</td>\n",
       "      <td>lq</td>\n",
       "      <td>Prompt: I know I am too big, and I probably sh...</td>\n",
       "    </tr>\n",
       "  </tbody>\n",
       "</table>\n",
       "</div>"
      ],
      "text/plain": [
       "                                              prompt  \\\n",
       "0  I know I am too big, and I probably should exe...   \n",
       "1  I know I am too big, and I probably should exe...   \n",
       "2  I know I am too big, and I probably should exe...   \n",
       "3  I know I am too big, and I probably should exe...   \n",
       "4  I know I am too big, and I probably should exe...   \n",
       "\n",
       "                                            response label  \\\n",
       "0  You are starting to think it’s time to do some...    hq   \n",
       "1  You have put a lot of effort into losing weigh...    hq   \n",
       "2  You don't know how you'd fit exercise into you...    mq   \n",
       "3  It's free to exercise at home. Maybe ride your...    lq   \n",
       "4  Do you have a cheap gym near you, like a Plane...    lq   \n",
       "\n",
       "                                                text  \n",
       "0  Prompt: I know I am too big, and I probably sh...  \n",
       "1  Prompt: I know I am too big, and I probably sh...  \n",
       "2  Prompt: I know I am too big, and I probably sh...  \n",
       "3  Prompt: I know I am too big, and I probably sh...  \n",
       "4  Prompt: I know I am too big, and I probably sh...  "
      ]
     },
     "execution_count": 59,
     "metadata": {},
     "output_type": "execute_result"
    }
   ],
   "source": [
    "# Concatenate prompt and response into a single text column\n",
    "df['text'] = \"Prompt: \" + df['prompt'].str.strip() + \"\\nResponse: \" + df['response'].str.strip()\n",
    "\n",
    "df.head()\n"
   ]
  },
  {
   "cell_type": "code",
   "execution_count": 60,
   "metadata": {},
   "outputs": [
    {
     "data": {
      "text/html": [
       "<div>\n",
       "<style scoped>\n",
       "    .dataframe tbody tr th:only-of-type {\n",
       "        vertical-align: middle;\n",
       "    }\n",
       "\n",
       "    .dataframe tbody tr th {\n",
       "        vertical-align: top;\n",
       "    }\n",
       "\n",
       "    .dataframe thead th {\n",
       "        text-align: right;\n",
       "    }\n",
       "</style>\n",
       "<table border=\"1\" class=\"dataframe\">\n",
       "  <thead>\n",
       "    <tr style=\"text-align: right;\">\n",
       "      <th></th>\n",
       "      <th>prompt</th>\n",
       "      <th>response</th>\n",
       "      <th>label</th>\n",
       "      <th>text</th>\n",
       "      <th>label_encoded</th>\n",
       "    </tr>\n",
       "  </thead>\n",
       "  <tbody>\n",
       "    <tr>\n",
       "      <th>0</th>\n",
       "      <td>We eat at Wendy’s a few times a week. It’s che...</td>\n",
       "      <td>You know that there are better options than fa...</td>\n",
       "      <td>hq</td>\n",
       "      <td>Prompt: We eat at Wendy’s a few times a week. ...</td>\n",
       "      <td>1</td>\n",
       "    </tr>\n",
       "    <tr>\n",
       "      <th>1</th>\n",
       "      <td>Of course, I want a healthy baby, I just need ...</td>\n",
       "      <td>Your little boy is worried that you might harm...</td>\n",
       "      <td>hq</td>\n",
       "      <td>Prompt: Of course, I want a healthy baby, I ju...</td>\n",
       "      <td>1</td>\n",
       "    </tr>\n",
       "    <tr>\n",
       "      <th>2</th>\n",
       "      <td>I do feel like giving up sometimes but I don’t...</td>\n",
       "      <td>We are not always motivated, but rest assured ...</td>\n",
       "      <td>lq</td>\n",
       "      <td>Prompt: I do feel like giving up sometimes but...</td>\n",
       "      <td>0</td>\n",
       "    </tr>\n",
       "    <tr>\n",
       "      <th>3</th>\n",
       "      <td>Can I? I  heard teenagers can’t breastfeed.</td>\n",
       "      <td>You think teenagers can't breastfeed.</td>\n",
       "      <td>mq</td>\n",
       "      <td>Prompt: Can I? I  heard teenagers can’t breast...</td>\n",
       "      <td>2</td>\n",
       "    </tr>\n",
       "    <tr>\n",
       "      <th>4</th>\n",
       "      <td>I quit when my wife decided to quit, because I...</td>\n",
       "      <td>Your wife’s wellbeing, both mental and physica...</td>\n",
       "      <td>hq</td>\n",
       "      <td>Prompt: I quit when my wife decided to quit, b...</td>\n",
       "      <td>1</td>\n",
       "    </tr>\n",
       "  </tbody>\n",
       "</table>\n",
       "</div>"
      ],
      "text/plain": [
       "                                              prompt  \\\n",
       "0  We eat at Wendy’s a few times a week. It’s che...   \n",
       "1  Of course, I want a healthy baby, I just need ...   \n",
       "2  I do feel like giving up sometimes but I don’t...   \n",
       "3        Can I? I  heard teenagers can’t breastfeed.   \n",
       "4  I quit when my wife decided to quit, because I...   \n",
       "\n",
       "                                            response label  \\\n",
       "0  You know that there are better options than fa...    hq   \n",
       "1  Your little boy is worried that you might harm...    hq   \n",
       "2  We are not always motivated, but rest assured ...    lq   \n",
       "3              You think teenagers can't breastfeed.    mq   \n",
       "4  Your wife’s wellbeing, both mental and physica...    hq   \n",
       "\n",
       "                                                text  label_encoded  \n",
       "0  Prompt: We eat at Wendy’s a few times a week. ...              1  \n",
       "1  Prompt: Of course, I want a healthy baby, I ju...              1  \n",
       "2  Prompt: I do feel like giving up sometimes but...              0  \n",
       "3  Prompt: Can I? I  heard teenagers can’t breast...              2  \n",
       "4  Prompt: I quit when my wife decided to quit, b...              1  "
      ]
     },
     "execution_count": 60,
     "metadata": {},
     "output_type": "execute_result"
    }
   ],
   "source": [
    "df = df.sample(frac=1.0, random_state=42).reset_index(drop=True)\n",
    "df['label_encoded'] = df['label'].map({'lq': 0, 'hq': 1, 'mq': 2}) \n",
    "df.head()"
   ]
  },
  {
   "cell_type": "markdown",
   "metadata": {},
   "source": [
    "## Handle Label Imbalance"
   ]
  },
  {
   "cell_type": "code",
   "execution_count": null,
   "metadata": {},
   "outputs": [],
   "source": [
    "## import pandas as pd\n",
    "from sklearn.model_selection import train_test_split\n",
    "from sklearn.utils.class_weight import compute_class_weight\n",
    "\n",
    "# Stratified split (80-20)\n",
    "train_texts, val_texts, train_labels, val_labels = train_test_split(\n",
    "    df['text'].tolist(),\n",
    "    df['label_encoded'].tolist(),\n",
    "    test_size=0.2,\n",
    "    stratify=df['label_encoded'],\n",
    "    random_state=42\n",
    ")"
   ]
  },
  {
   "cell_type": "markdown",
   "metadata": {},
   "source": [
    "## Class weight"
   ]
  },
  {
   "cell_type": "code",
   "execution_count": null,
   "metadata": {},
   "outputs": [],
   "source": [
    "import numpy as np\n",
    "import torch\n",
    "from sklearn.utils.class_weight import compute_class_weight\n",
    "\n",
    "classes = np.array([0, 1, 2])\n",
    "\n",
    "# Compute class weights\n",
    "class_weights = compute_class_weight(\n",
    "    class_weight='balanced',\n",
    "    classes=classes,\n",
    "    y=df['label_encoded']\n",
    ")\n",
    "\n",
    "class_weights_tensor = torch.tensor(class_weights, dtype=torch.float)  \n"
   ]
  },
  {
   "cell_type": "markdown",
   "metadata": {},
   "source": [
    "# Modeling"
   ]
  },
  {
   "cell_type": "code",
   "execution_count": 54,
   "metadata": {},
   "outputs": [],
   "source": [
    "## Libraries\n",
    "import torch\n",
    "from transformers import BertForSequenceClassification, BertTokenizer, AdamW, get_linear_schedule_with_warmup\n",
    "from torch.utils.data import DataLoader\n",
    "from sklearn.metrics import accuracy_score, f1_score\n",
    "from torch.nn.utils import clip_grad_norm_\n",
    "from torch.optim import AdamW \n",
    "import numpy as np\n",
    "import random\n"
   ]
  },
  {
   "cell_type": "code",
   "execution_count": null,
   "metadata": {},
   "outputs": [
    {
     "data": {
      "text/plain": [
       "<torch._C.Generator at 0x121c99590>"
      ]
     },
     "execution_count": 55,
     "metadata": {},
     "output_type": "execute_result"
    }
   ],
   "source": [
    "random.seed(42)\n",
    "np.random.seed(42)\n",
    "torch.manual_seed(42)\n"
   ]
  },
  {
   "cell_type": "code",
   "execution_count": null,
   "metadata": {},
   "outputs": [
    {
     "name": "stderr",
     "output_type": "stream",
     "text": [
      "Some weights of BertForSequenceClassification were not initialized from the model checkpoint at bert-base-uncased and are newly initialized: ['classifier.bias', 'classifier.weight']\n",
      "You should probably TRAIN this model on a down-stream task to be able to use it for predictions and inference.\n"
     ]
    }
   ],
   "source": [
    "tokenizer = BertTokenizer.from_pretrained('bert-base-uncased')\n",
    "model = BertForSequenceClassification.from_pretrained('bert-base-uncased', num_labels=3)\n"
   ]
  },
  {
   "cell_type": "code",
   "execution_count": null,
   "metadata": {},
   "outputs": [],
   "source": [
    "def tokenize_function(texts):\n",
    "    return tokenizer(texts, padding=True, truncation=True, max_length=512)\n"
   ]
  },
  {
   "cell_type": "code",
   "execution_count": null,
   "metadata": {},
   "outputs": [],
   "source": [
    "train_encodings = tokenize_function(train_texts)\n",
    "val_encodings = tokenize_function(val_texts)\n"
   ]
  },
  {
   "cell_type": "code",
   "execution_count": null,
   "metadata": {},
   "outputs": [],
   "source": [
    "train_labels_tensor = torch.tensor(train_labels)\n",
    "val_labels_tensor = torch.tensor(val_labels)\n"
   ]
  },
  {
   "cell_type": "code",
   "execution_count": 65,
   "metadata": {},
   "outputs": [],
   "source": [
    "class CustomDataset(torch.utils.data.Dataset):\n",
    "    def __init__(self, encodings, labels):\n",
    "        self.encodings = encodings\n",
    "        self.labels = labels\n",
    "\n",
    "    def __getitem__(self, idx):\n",
    "        item = {key: torch.tensor(val[idx]) for key, val in self.encodings.items()}\n",
    "        item['labels'] = self.labels[idx]\n",
    "        return item\n",
    "\n",
    "    def __len__(self):\n",
    "        return len(self.labels)\n"
   ]
  },
  {
   "cell_type": "code",
   "execution_count": 66,
   "metadata": {},
   "outputs": [],
   "source": [
    "train_dataset = CustomDataset(train_encodings, train_labels_tensor)\n",
    "val_dataset = CustomDataset(val_encodings, val_labels_tensor)\n",
    "\n",
    "train_dataloader = DataLoader(train_dataset, batch_size=8, shuffle=True)\n",
    "val_dataloader = DataLoader(val_dataset, batch_size=8)\n"
   ]
  },
  {
   "cell_type": "code",
   "execution_count": null,
   "metadata": {},
   "outputs": [],
   "source": [
    "optimizer = AdamW(model.parameters(), lr=2e-5, weight_decay=0.01)\n",
    "num_epochs = 5\n",
    "num_training_steps = len(train_dataloader) * num_epochs\n",
    "scheduler = get_linear_schedule_with_warmup(optimizer, num_warmup_steps=0, num_training_steps=num_training_steps)\n"
   ]
  },
  {
   "cell_type": "code",
   "execution_count": null,
   "metadata": {},
   "outputs": [],
   "source": [
    "# early stopping with patience=3\n",
    "class EarlyStopping:\n",
    "    def __init__(self, patience=3, delta=0):\n",
    "        self.patience = patience\n",
    "        self.delta = delta\n",
    "        self.best_val_loss = float('inf')\n",
    "        self.counter = 0\n",
    "\n",
    "    def __call__(self, val_loss):\n",
    "        if val_loss < self.best_val_loss - self.delta:\n",
    "            self.best_val_loss = val_loss\n",
    "            self.counter = 0\n",
    "        else:\n",
    "            self.counter += 1\n",
    "\n",
    "        if self.counter >= self.patience:\n",
    "            return True  \n",
    "        return False\n"
   ]
  },
  {
   "cell_type": "code",
   "execution_count": null,
   "metadata": {},
   "outputs": [
    {
     "name": "stdout",
     "output_type": "stream",
     "text": [
      "Epoch 1, Training Loss: 0.4403039020139213\n",
      "Epoch 1, Validation Loss: 0.1871433703636285, F1 Score: 0.8956802354588773\n",
      "Validation loss improved from inf to 0.1871. Saving model weights...\n",
      "Epoch 2, Training Loss: 0.15674879703871614\n",
      "Epoch 2, Validation Loss: 0.1691037587261235, F1 Score: 0.9330089392922826\n",
      "Validation loss improved from 0.1871 to 0.1691. Saving model weights...\n",
      "Epoch 3, Training Loss: 0.06788978148183292\n",
      "Epoch 3, Validation Loss: 0.17515307337498598, F1 Score: 0.9336972206537424\n",
      "Epoch 4, Training Loss: 0.03702861796893344\n",
      "Epoch 4, Validation Loss: 0.21125022303658625, F1 Score: 0.9325877460517927\n",
      "Epoch 5, Training Loss: 0.017869751690544517\n",
      "Epoch 5, Validation Loss: 0.19258440241719654, F1 Score: 0.9346967269429759\n",
      "Early stopping triggered!\n",
      "✅ Best model and tokenizer saved in ./best_model\n"
     ]
    }
   ],
   "source": [
    "device = torch.device('cuda' if torch.cuda.is_available() else 'cpu')\n",
    "model.to(device)\n",
    "\n",
    "early_stopping = EarlyStopping(patience=3, delta=0.01)\n",
    "\n",
    "best_val_loss = float('inf')\n",
    "best_model_state = None\n",
    "\n",
    "for epoch in range(num_epochs):\n",
    "    model.train()\n",
    "    train_loss = 0\n",
    "\n",
    "    for batch in train_dataloader:\n",
    "        optimizer.zero_grad()\n",
    "        inputs = {key: val.to(device) for key, val in batch.items() if key != 'labels'}\n",
    "        labels = batch['labels'].to(device)\n",
    "\n",
    "        outputs = model(**inputs, labels=labels)\n",
    "        loss = outputs.loss\n",
    "        loss.backward()\n",
    "\n",
    "        clip_grad_norm_(model.parameters(), max_norm=1.0)\n",
    "        optimizer.step()\n",
    "        scheduler.step()\n",
    "\n",
    "        train_loss += loss.item()\n",
    "\n",
    "    avg_train_loss = train_loss / len(train_dataloader)\n",
    "    print(f\"Epoch {epoch + 1}, Training Loss: {avg_train_loss}\")\n",
    "\n",
    "    # Evaluation phase\n",
    "    model.eval()\n",
    "    val_loss = 0\n",
    "    all_preds = []\n",
    "    all_labels = []\n",
    "\n",
    "    with torch.no_grad():\n",
    "        for batch in val_dataloader:\n",
    "            inputs = {key: val.to(device) for key, val in batch.items() if key != 'labels'}\n",
    "            labels = batch['labels'].to(device)\n",
    "\n",
    "            outputs = model(**inputs, labels=labels)\n",
    "            loss = outputs.loss\n",
    "            logits = outputs.logits\n",
    "\n",
    "            val_loss += loss.item()\n",
    "            preds = torch.argmax(logits, dim=1).cpu().numpy()\n",
    "            all_preds.extend(preds)\n",
    "            all_labels.extend(labels.cpu().numpy())\n",
    "\n",
    "    avg_val_loss = val_loss / len(val_dataloader)\n",
    "    val_f1 = f1_score(all_labels, all_preds, average='macro')\n",
    "    print(f\"Epoch {epoch + 1}, Validation Loss: {avg_val_loss}, F1 Score: {val_f1}\")\n",
    "\n",
    "    if avg_val_loss < best_val_loss:\n",
    "        print(f\"Validation loss improved from {best_val_loss:.4f} to {avg_val_loss:.4f}. Saving model weights...\")\n",
    "        best_val_loss = avg_val_loss\n",
    "        best_model_state = model.state_dict()\n",
    "\n",
    "    if early_stopping(avg_val_loss):\n",
    "        print(\"Early stopping triggered!\")\n",
    "        break\n",
    "\n",
    "# Save only the best model after training ends\n",
    "if best_model_state:\n",
    "    model.load_state_dict(best_model_state)\n",
    "    model.cpu()  # move to CPU before saving\n",
    "    model.save_pretrained('./best_model', safe_serialization=False)\n",
    "    tokenizer.save_pretrained('./best_model')\n",
    "    print(\"Best model and tokenizer saved in ./best_model\")\n",
    "else:\n",
    "    print(\"No best model to save.\")\n"
   ]
  },
  {
   "cell_type": "markdown",
   "metadata": {},
   "source": [
    "# Model Evaluation"
   ]
  },
  {
   "cell_type": "code",
   "execution_count": 70,
   "metadata": {},
   "outputs": [
    {
     "name": "stdout",
     "output_type": "stream",
     "text": [
      "Validation label distribution: Counter({0: 318, 1: 127, 2: 64})\n",
      "Predicted label distribution: Counter({0: 313, 1: 129, 2: 67})\n"
     ]
    }
   ],
   "source": [
    "from collections import Counter\n",
    "print(\"Validation label distribution:\", Counter(all_labels))\n",
    "print(\"Predicted label distribution:\", Counter(all_preds))\n"
   ]
  },
  {
   "cell_type": "code",
   "execution_count": 71,
   "metadata": {},
   "outputs": [
    {
     "name": "stdout",
     "output_type": "stream",
     "text": [
      "[[312   5   1]\n",
      " [  0 119   8]\n",
      " [  1   5  58]]\n",
      "              precision    recall  f1-score   support\n",
      "\n",
      "           0       1.00      0.98      0.99       318\n",
      "           1       0.92      0.94      0.93       127\n",
      "           2       0.87      0.91      0.89        64\n",
      "\n",
      "    accuracy                           0.96       509\n",
      "   macro avg       0.93      0.94      0.93       509\n",
      "weighted avg       0.96      0.96      0.96       509\n",
      "\n"
     ]
    }
   ],
   "source": [
    "from sklearn.metrics import confusion_matrix, classification_report\n",
    "print(confusion_matrix(all_labels, all_preds))\n",
    "print(classification_report(all_labels, all_preds))\n"
   ]
  },
  {
   "cell_type": "markdown",
   "metadata": {},
   "source": [
    "# Loading Model and Testing the results"
   ]
  },
  {
   "cell_type": "code",
   "execution_count": null,
   "metadata": {},
   "outputs": [
    {
     "name": "stdout",
     "output_type": "stream",
     "text": [
      "Prompt: I've been feeling down for a while now. It's hard to find motivation for anything. I know I should be doing things to feel better, but nothing seems to help. It's like I'm stuck in a rut and can't get out.\n",
      "Response: You’re feeling stuck in a negative cycle, and it’s hard to find the energy to make things better. Even though you know what might help, you’re struggling to break free from this feeling of being stuck.\n",
      "Predicted Response Quality: High Quality\n"
     ]
    }
   ],
   "source": [
    "import torch\n",
    "from transformers import BertForSequenceClassification, BertTokenizer\n",
    "\n",
    "model = BertForSequenceClassification.from_pretrained('wasay8/bert-mental-health-lq-hq-mq')\n",
    "tokenizer = BertTokenizer.from_pretrained('wasay8/bert-mental-health-lq-hq-mq')\n",
    "\n",
    "\n",
    "label_map = {0: \"Low Quality\", 1: \"High Quality\", 2: \"Mid Quality\"}\n",
    "\n",
    "prompt= \"I've been feeling down for a while now. It's hard to find motivation for anything. I know I should be doing things to feel better, but nothing seems to help. It's like I'm stuck in a rut and can't get out.\"\n",
    "response= \"You’re feeling stuck in a negative cycle, and it’s hard to find the energy to make things better. Even though you know what might help, you’re struggling to break free from this feeling of being stuck.\"\n",
    "\n",
    "input_text = \"Prompt: \" + prompt.strip() + \"\\nResponse: \" + response.strip()\n",
    "\n",
    "def classify_quality(input_text):\n",
    "    inputs = tokenizer(input_text, return_tensors=\"pt\", padding=True, truncation=True, max_length=128)\n",
    "    \n",
    "    model.eval() \n",
    "    with torch.no_grad():  \n",
    "        outputs = model(**inputs)\n",
    "    \n",
    "    predictions = torch.argmax(outputs.logits, dim=-1)\n",
    "    return predictions.item()\n",
    "\n",
    "predicted_label = classify_quality(input_text)\n",
    "\n",
    "predicted_response = label_map[predicted_label]\n",
    "\n",
    "print(f\"Prompt: {prompt}\")\n",
    "print(f\"Response: {response}\")\n",
    "print(f\"Predicted Response Quality: {predicted_response}\")\n"
   ]
  },
  {
   "cell_type": "code",
   "execution_count": null,
   "metadata": {},
   "outputs": [
    {
     "name": "stdout",
     "output_type": "stream",
     "text": [
      "Prompt: I do feel like giving up sometimes but I don’t think that means I am depressed.\n",
      "Response: We are not always motivated, but rest assured that if you give up, it will be the worst for you.\n",
      "0\n",
      "Predicted Response Quality: Low Quality\n"
     ]
    }
   ],
   "source": [
    "Prompt=\"I do feel like giving up sometimes but I don’t think that means I am depressed.\"\n",
    "Response=\" We are not always motivated, but rest assured that if you give up, it will be the worst for you.\"\n",
    "input_text = \"Prompt: \" + Prompt.strip() + \"\\nResponse: \" + Response.strip()\n",
    "\n",
    "print(input_text)\n",
    "predicted_label = classify_quality(input_text)\n",
    "print(predicted_label)\n",
    "\n",
    "predicted_response = label_map[predicted_label]\n",
    "print(f\"Predicted Response Quality: {predicted_response}\")"
   ]
  },
  {
   "cell_type": "markdown",
   "metadata": {},
   "source": [
    "# Model size"
   ]
  },
  {
   "cell_type": "code",
   "execution_count": 90,
   "metadata": {},
   "outputs": [
    {
     "name": "stdout",
     "output_type": "stream",
     "text": [
      "Model size: 417.67 MB\n"
     ]
    }
   ],
   "source": [
    "import os\n",
    "\n",
    "def get_folder_size(folder_path):\n",
    "    total_size = 0\n",
    "    for dirpath, dirnames, filenames in os.walk(folder_path):\n",
    "        for f in filenames:\n",
    "            fp = os.path.join(dirpath, f)\n",
    "            total_size += os.path.getsize(fp)\n",
    "    return total_size\n",
    "\n",
    "model_path = './best_model'\n",
    "size_bytes = get_folder_size(model_path)\n",
    "size_mb = size_bytes / (1024 * 1024)\n",
    "\n",
    "print(f\"Model size: {size_mb:.2f} MB\")\n"
   ]
  },
  {
   "cell_type": "code",
   "execution_count": null,
   "metadata": {},
   "outputs": [
    {
     "name": "stdout",
     "output_type": "stream",
     "text": [
      "Tokenizer size: 0.22 MB\n"
     ]
    }
   ],
   "source": [
    "tokenizer_path = './tokenizer'\n",
    "tokenizer_size_bytes = get_folder_size(tokenizer_path)\n",
    "tokenizer_size_mb = tokenizer_size_bytes / (1024 * 1024)\n",
    "print(f\"Tokenizer size: {tokenizer_size_mb:.2f} MB\")\n"
   ]
  },
  {
   "cell_type": "code",
   "execution_count": null,
   "metadata": {},
   "outputs": [],
   "source": []
  },
  {
   "cell_type": "code",
   "execution_count": null,
   "metadata": {},
   "outputs": [],
   "source": []
  }
 ],
 "metadata": {
  "kernelspec": {
   "display_name": "radai_venv",
   "language": "python",
   "name": "python3"
  },
  "language_info": {
   "codemirror_mode": {
    "name": "ipython",
    "version": 3
   },
   "file_extension": ".py",
   "mimetype": "text/x-python",
   "name": "python",
   "nbconvert_exporter": "python",
   "pygments_lexer": "ipython3",
   "version": "3.12.8"
  }
 },
 "nbformat": 4,
 "nbformat_minor": 2
}
